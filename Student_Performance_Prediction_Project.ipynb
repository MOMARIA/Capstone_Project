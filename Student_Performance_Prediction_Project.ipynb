{
  "cells": [
    {
      "cell_type": "markdown",
      "id": "e888b6e6",
      "metadata": {
        "id": "e888b6e6"
      },
      "source": [
        "# Student Performance Prediction Project"
      ]
    },
    {
      "cell_type": "markdown",
      "id": "095112d7",
      "metadata": {
        "id": "095112d7"
      },
      "source": [
        "## Introduction\n",
        "This project aims to predict student performance based on various features. The data used includes student profiles, academic performance, and behavioral interactions with a virtual learning environment."
      ]
    },
    {
      "cell_type": "markdown",
      "id": "2f78be83",
      "metadata": {
        "id": "2f78be83"
      },
      "source": [
        "## Data Cleaning and Preprocessing\n",
        "The first step involves reading the dataset and inspecting its structure. Let's begin by loading the data and displaying some basic information."
      ]
    },
    {
      "cell_type": "code",
      "execution_count": null,
      "id": "22d9439e",
      "metadata": {
        "id": "22d9439e"
      },
      "outputs": [],
      "source": [
        "import pandas as pd\n",
        "import matplotlib.pyplot as plt\n",
        "import seaborn as sns\n",
        "from sklearn.preprocessing import LabelEncoder\n",
        "from sklearn.model_selection import train_test_split\n",
        "from sklearn.ensemble import RandomForestClassifier\n",
        "from sklearn.metrics import accuracy_score, classification_report, confusion_matrix\n",
        "from sklearn.svm import SVC\n",
        "from sklearn.neighbors import KNeighborsClassifier\n",
        "from sklearn.model_selection import GridSearchCV\n",
        "\n",
        "\n",
        "data = pd.read_csv('education.csv')\n",
        "\n",
        "# Display the first few rows and information about the dataset\n",
        "data_head = data.head()\n",
        "data_info = data.info()\n",
        "\n",
        "data_head, data_info"
      ]
    },
    {
      "cell_type": "markdown",
      "source": [
        "## Dataset Description\n",
        "The dataset contains 480 entries and 17 columns. Each entry represents a student, and the columns represent various attributes related to the student's education, such as gender, nationality, stage, grade, etc.\n",
        "\n",
        "Numerical Columns: 'raisedhands', 'VisITedResources', 'AnnouncementsView', 'Discussion'\n",
        "Categorical Columns: 'gender', 'NationalITy', 'PlaceofBirth', 'StageID', 'GradeID', 'SectionID', 'Topic', 'Semester', 'Relation', 'ParentAnsweringSurvey', 'ParentschoolSatisfaction', 'StudentAbsenceDays'\n",
        "Target Column: 'Class'\n",
        "There are no null values in any of the columns, which is a good starting point."
      ],
      "metadata": {
        "id": "eU2VX4wQZjHo"
      },
      "id": "eU2VX4wQZjHo"
    },
    {
      "cell_type": "markdown",
      "id": "51f05ec1",
      "metadata": {
        "id": "51f05ec1"
      },
      "source": [
        "## Exploratory Data Analysis"
      ]
    },
    {
      "cell_type": "code",
      "execution_count": null,
      "id": "bff63361",
      "metadata": {
        "id": "bff63361"
      },
      "outputs": [],
      "source": [
        "# plot the student performance according to their Nationality with consistent color mapping for L, M, H\n",
        "plt.figure(figsize=(16, 8))\n",
        "sns.countplot(data=data, x='NationalITy', hue='Class',\n",
        "              hue_order=['L', 'M', 'H'], palette={\"L\": \"red\", \"M\": \"yellow\", \"H\": \"green\"},\n",
        "              order=data['NationalITy'].value_counts().index)\n",
        "plt.title('Student Performance According to Nationality')\n",
        "plt.xlabel('Nationality')\n",
        "plt.ylabel('Count')\n",
        "plt.xticks(rotation=45)\n",
        "plt.show()"
      ]
    },
    {
      "cell_type": "markdown",
      "source": [
        "Student Performance According to Nationality\n",
        "In this updated bar chart, the colors are consistently mapped to the performance levels:\n",
        "\n",
        "\"Low\" performance is represented in red.\n",
        "\"Middle\" performance is represented in yellow.\n",
        "\"High\" performance is represented in green."
      ],
      "metadata": {
        "id": "BsSwXtv1aFJ7"
      },
      "id": "BsSwXtv1aFJ7"
    },
    {
      "cell_type": "code",
      "source": [
        "# How is the students' general performance with consistent color mapping for L, M, H?\n",
        "plt.figure(figsize=(8, 6))\n",
        "sns.countplot(data=data, x='Class', order=['L', 'M', 'H'], palette={\"L\": \"red\", \"M\": \"yellow\", \"H\": \"green\"})\n",
        "plt.title('Students\\' General Performance')\n",
        "plt.xlabel('Performance Class')\n",
        "plt.ylabel('Count')\n",
        "plt.show()"
      ],
      "metadata": {
        "id": "Kfu1iYYGaSgD"
      },
      "id": "Kfu1iYYGaSgD",
      "execution_count": null,
      "outputs": []
    },
    {
      "cell_type": "code",
      "source": [
        "# How is the student performance according to their educational level?\n",
        "plt.figure(figsize=(12, 6))\n",
        "sns.countplot(data=data, x='StageID', hue='Class', hue_order=['L', 'M', 'H'], palette={\"L\": \"red\", \"M\": \"yellow\", \"H\": \"green\"})\n",
        "plt.title('Student Performance According to Educational Level')\n",
        "plt.xlabel('Educational Level')\n",
        "plt.ylabel('Count')\n",
        "plt.show()"
      ],
      "metadata": {
        "id": "ne9xVmJtaWCf"
      },
      "id": "ne9xVmJtaWCf",
      "execution_count": null,
      "outputs": []
    },
    {
      "cell_type": "code",
      "source": [
        "# How is the student performance according to the sections?\n",
        "plt.figure(figsize=(10, 6))\n",
        "sns.countplot(data=data, x='SectionID', hue='Class', hue_order=['L', 'M', 'H'], palette={\"L\": \"red\", \"M\": \"yellow\", \"H\": \"green\"})\n",
        "plt.title('Student Performance According to Sections')\n",
        "plt.xlabel('Section')\n",
        "plt.ylabel('Count')\n",
        "plt.show()"
      ],
      "metadata": {
        "id": "FCP__-CWaXtO"
      },
      "id": "FCP__-CWaXtO",
      "execution_count": null,
      "outputs": []
    },
    {
      "cell_type": "code",
      "source": [
        "# How is the student performance according to the learning topics?\n",
        "plt.figure(figsize=(16, 8))\n",
        "sns.countplot(data=data, x='Topic', hue='Class', hue_order=['L', 'M', 'H'], palette={\"L\": \"red\", \"M\": \"yellow\", \"H\": \"green\"})\n",
        "plt.title('Student Performance According to Learning Topics')\n",
        "plt.xlabel('Learning Topics')\n",
        "plt.ylabel('Count')\n",
        "plt.xticks(rotation=45)\n",
        "plt.show()"
      ],
      "metadata": {
        "id": "6oMFbOmRaZJv"
      },
      "id": "6oMFbOmRaZJv",
      "execution_count": null,
      "outputs": []
    },
    {
      "cell_type": "code",
      "source": [
        "# How is the student performance according to the semester?\n",
        "plt.figure(figsize=(10, 6))\n",
        "sns.countplot(data=data, x='Semester', hue='Class', hue_order=['L', 'M', 'H'], palette={\"L\": \"red\", \"M\": \"yellow\", \"H\": \"green\"})\n",
        "plt.title('Student Performance According to Semester')\n",
        "plt.xlabel('Semester')\n",
        "plt.ylabel('Count')\n",
        "plt.show()"
      ],
      "metadata": {
        "id": "7-Fm_2vzaaWY"
      },
      "id": "7-Fm_2vzaaWY",
      "execution_count": null,
      "outputs": []
    },
    {
      "cell_type": "code",
      "source": [
        "# How is the student performance according to their absence?\n",
        "plt.figure(figsize=(10, 6))\n",
        "sns.countplot(data=data, x='StudentAbsenceDays', hue='Class', hue_order=['L', 'M', 'H'], palette={\"L\": \"red\", \"M\": \"yellow\", \"H\": \"green\"})\n",
        "plt.title('Student Performance According to Absence Days')\n",
        "plt.xlabel('Absence Days')\n",
        "plt.ylabel('Count')\n",
        "plt.show()"
      ],
      "metadata": {
        "id": "HMKmxYnGabf8"
      },
      "id": "HMKmxYnGabf8",
      "execution_count": null,
      "outputs": []
    },
    {
      "cell_type": "markdown",
      "source": [
        "## Data Exploration Summary:\n",
        "1. Student Performance According to Nationality: Students from Kuwait and Jordan form the majority. Performance is distributed across all three categories.\n",
        "\n",
        "2. Students' General Performance: The majority of students fall into the \"Middle\" performance class, followed by \"High\" and \"Low\".\n",
        "\n",
        "3. Student Performance According to Educational Level: Most students are in the \"Middle School\" stage and primarily fall into the \"Middle\" performance category.\n",
        "\n",
        "4. Student Performance According to Sections: Most students are in Section A and fall predominantly into the \"Middle\" performance category.\n",
        "\n",
        "5. Student Performance According to Learning Topics: Topics like IT, Math, and Arabic have more students, mainly falling into the \"Middle\" performance category.\n",
        "\n",
        "6. Student Performance According to Semester: Both semesters show similar patterns, with the majority of students in the \"Middle\" performance category.\n",
        "\n",
        "7. Student Performance According to Absence Days: Students with fewer absence days tend to perform better.\n",
        "\n",
        "All the plots have consistent color coding for Low (Red), Middle (Yellow), and High (Green) performance levels."
      ],
      "metadata": {
        "id": "Ikp3bHZia7n8"
      },
      "id": "Ikp3bHZia7n8"
    },
    {
      "cell_type": "markdown",
      "id": "e4eb6a4b",
      "metadata": {
        "id": "e4eb6a4b"
      },
      "source": [
        "## Data Modeling"
      ]
    },
    {
      "cell_type": "code",
      "execution_count": 16,
      "id": "8929d507",
      "metadata": {
        "colab": {
          "base_uri": "https://localhost:8080/",
          "height": 226
        },
        "id": "8929d507",
        "outputId": "26cd0f76-421e-46e1-951e-374ba7a06365"
      },
      "outputs": [
        {
          "output_type": "execute_result",
          "data": {
            "text/plain": [
              "   gender  NationalITy  PlaceofBirth  StageID  GradeID  SectionID  Topic  \\\n",
              "0       1            4             4        2        1          0      7   \n",
              "1       1            4             4        2        1          0      7   \n",
              "2       1            4             4        2        1          0      7   \n",
              "3       1            4             4        2        1          0      7   \n",
              "4       1            4             4        2        1          0      7   \n",
              "\n",
              "   Semester  Relation  raisedhands  VisITedResources  AnnouncementsView  \\\n",
              "0         0         0           15                16                  2   \n",
              "1         0         0           20                20                  3   \n",
              "2         0         0           10                 7                  0   \n",
              "3         0         0           30                25                  5   \n",
              "4         0         0           40                50                 12   \n",
              "\n",
              "   Discussion  ParentAnsweringSurvey  ParentschoolSatisfaction  \\\n",
              "0          20                      1                         1   \n",
              "1          25                      1                         1   \n",
              "2          30                      0                         0   \n",
              "3          35                      0                         0   \n",
              "4          50                      0                         0   \n",
              "\n",
              "   StudentAbsenceDays  Class  \n",
              "0                   1      2  \n",
              "1                   1      2  \n",
              "2                   0      1  \n",
              "3                   0      1  \n",
              "4                   0      2  "
            ],
            "text/html": [
              "\n",
              "  <div id=\"df-a0c4cce4-4d77-496c-8613-1f1568f66ee9\" class=\"colab-df-container\">\n",
              "    <div>\n",
              "<style scoped>\n",
              "    .dataframe tbody tr th:only-of-type {\n",
              "        vertical-align: middle;\n",
              "    }\n",
              "\n",
              "    .dataframe tbody tr th {\n",
              "        vertical-align: top;\n",
              "    }\n",
              "\n",
              "    .dataframe thead th {\n",
              "        text-align: right;\n",
              "    }\n",
              "</style>\n",
              "<table border=\"1\" class=\"dataframe\">\n",
              "  <thead>\n",
              "    <tr style=\"text-align: right;\">\n",
              "      <th></th>\n",
              "      <th>gender</th>\n",
              "      <th>NationalITy</th>\n",
              "      <th>PlaceofBirth</th>\n",
              "      <th>StageID</th>\n",
              "      <th>GradeID</th>\n",
              "      <th>SectionID</th>\n",
              "      <th>Topic</th>\n",
              "      <th>Semester</th>\n",
              "      <th>Relation</th>\n",
              "      <th>raisedhands</th>\n",
              "      <th>VisITedResources</th>\n",
              "      <th>AnnouncementsView</th>\n",
              "      <th>Discussion</th>\n",
              "      <th>ParentAnsweringSurvey</th>\n",
              "      <th>ParentschoolSatisfaction</th>\n",
              "      <th>StudentAbsenceDays</th>\n",
              "      <th>Class</th>\n",
              "    </tr>\n",
              "  </thead>\n",
              "  <tbody>\n",
              "    <tr>\n",
              "      <th>0</th>\n",
              "      <td>1</td>\n",
              "      <td>4</td>\n",
              "      <td>4</td>\n",
              "      <td>2</td>\n",
              "      <td>1</td>\n",
              "      <td>0</td>\n",
              "      <td>7</td>\n",
              "      <td>0</td>\n",
              "      <td>0</td>\n",
              "      <td>15</td>\n",
              "      <td>16</td>\n",
              "      <td>2</td>\n",
              "      <td>20</td>\n",
              "      <td>1</td>\n",
              "      <td>1</td>\n",
              "      <td>1</td>\n",
              "      <td>2</td>\n",
              "    </tr>\n",
              "    <tr>\n",
              "      <th>1</th>\n",
              "      <td>1</td>\n",
              "      <td>4</td>\n",
              "      <td>4</td>\n",
              "      <td>2</td>\n",
              "      <td>1</td>\n",
              "      <td>0</td>\n",
              "      <td>7</td>\n",
              "      <td>0</td>\n",
              "      <td>0</td>\n",
              "      <td>20</td>\n",
              "      <td>20</td>\n",
              "      <td>3</td>\n",
              "      <td>25</td>\n",
              "      <td>1</td>\n",
              "      <td>1</td>\n",
              "      <td>1</td>\n",
              "      <td>2</td>\n",
              "    </tr>\n",
              "    <tr>\n",
              "      <th>2</th>\n",
              "      <td>1</td>\n",
              "      <td>4</td>\n",
              "      <td>4</td>\n",
              "      <td>2</td>\n",
              "      <td>1</td>\n",
              "      <td>0</td>\n",
              "      <td>7</td>\n",
              "      <td>0</td>\n",
              "      <td>0</td>\n",
              "      <td>10</td>\n",
              "      <td>7</td>\n",
              "      <td>0</td>\n",
              "      <td>30</td>\n",
              "      <td>0</td>\n",
              "      <td>0</td>\n",
              "      <td>0</td>\n",
              "      <td>1</td>\n",
              "    </tr>\n",
              "    <tr>\n",
              "      <th>3</th>\n",
              "      <td>1</td>\n",
              "      <td>4</td>\n",
              "      <td>4</td>\n",
              "      <td>2</td>\n",
              "      <td>1</td>\n",
              "      <td>0</td>\n",
              "      <td>7</td>\n",
              "      <td>0</td>\n",
              "      <td>0</td>\n",
              "      <td>30</td>\n",
              "      <td>25</td>\n",
              "      <td>5</td>\n",
              "      <td>35</td>\n",
              "      <td>0</td>\n",
              "      <td>0</td>\n",
              "      <td>0</td>\n",
              "      <td>1</td>\n",
              "    </tr>\n",
              "    <tr>\n",
              "      <th>4</th>\n",
              "      <td>1</td>\n",
              "      <td>4</td>\n",
              "      <td>4</td>\n",
              "      <td>2</td>\n",
              "      <td>1</td>\n",
              "      <td>0</td>\n",
              "      <td>7</td>\n",
              "      <td>0</td>\n",
              "      <td>0</td>\n",
              "      <td>40</td>\n",
              "      <td>50</td>\n",
              "      <td>12</td>\n",
              "      <td>50</td>\n",
              "      <td>0</td>\n",
              "      <td>0</td>\n",
              "      <td>0</td>\n",
              "      <td>2</td>\n",
              "    </tr>\n",
              "  </tbody>\n",
              "</table>\n",
              "</div>\n",
              "    <div class=\"colab-df-buttons\">\n",
              "\n",
              "  <div class=\"colab-df-container\">\n",
              "    <button class=\"colab-df-convert\" onclick=\"convertToInteractive('df-a0c4cce4-4d77-496c-8613-1f1568f66ee9')\"\n",
              "            title=\"Convert this dataframe to an interactive table.\"\n",
              "            style=\"display:none;\">\n",
              "\n",
              "  <svg xmlns=\"http://www.w3.org/2000/svg\" height=\"24px\" viewBox=\"0 -960 960 960\">\n",
              "    <path d=\"M120-120v-720h720v720H120Zm60-500h600v-160H180v160Zm220 220h160v-160H400v160Zm0 220h160v-160H400v160ZM180-400h160v-160H180v160Zm440 0h160v-160H620v160ZM180-180h160v-160H180v160Zm440 0h160v-160H620v160Z\"/>\n",
              "  </svg>\n",
              "    </button>\n",
              "\n",
              "  <style>\n",
              "    .colab-df-container {\n",
              "      display:flex;\n",
              "      gap: 12px;\n",
              "    }\n",
              "\n",
              "    .colab-df-convert {\n",
              "      background-color: #E8F0FE;\n",
              "      border: none;\n",
              "      border-radius: 50%;\n",
              "      cursor: pointer;\n",
              "      display: none;\n",
              "      fill: #1967D2;\n",
              "      height: 32px;\n",
              "      padding: 0 0 0 0;\n",
              "      width: 32px;\n",
              "    }\n",
              "\n",
              "    .colab-df-convert:hover {\n",
              "      background-color: #E2EBFA;\n",
              "      box-shadow: 0px 1px 2px rgba(60, 64, 67, 0.3), 0px 1px 3px 1px rgba(60, 64, 67, 0.15);\n",
              "      fill: #174EA6;\n",
              "    }\n",
              "\n",
              "    .colab-df-buttons div {\n",
              "      margin-bottom: 4px;\n",
              "    }\n",
              "\n",
              "    [theme=dark] .colab-df-convert {\n",
              "      background-color: #3B4455;\n",
              "      fill: #D2E3FC;\n",
              "    }\n",
              "\n",
              "    [theme=dark] .colab-df-convert:hover {\n",
              "      background-color: #434B5C;\n",
              "      box-shadow: 0px 1px 3px 1px rgba(0, 0, 0, 0.15);\n",
              "      filter: drop-shadow(0px 1px 2px rgba(0, 0, 0, 0.3));\n",
              "      fill: #FFFFFF;\n",
              "    }\n",
              "  </style>\n",
              "\n",
              "    <script>\n",
              "      const buttonEl =\n",
              "        document.querySelector('#df-a0c4cce4-4d77-496c-8613-1f1568f66ee9 button.colab-df-convert');\n",
              "      buttonEl.style.display =\n",
              "        google.colab.kernel.accessAllowed ? 'block' : 'none';\n",
              "\n",
              "      async function convertToInteractive(key) {\n",
              "        const element = document.querySelector('#df-a0c4cce4-4d77-496c-8613-1f1568f66ee9');\n",
              "        const dataTable =\n",
              "          await google.colab.kernel.invokeFunction('convertToInteractive',\n",
              "                                                    [key], {});\n",
              "        if (!dataTable) return;\n",
              "\n",
              "        const docLinkHtml = 'Like what you see? Visit the ' +\n",
              "          '<a target=\"_blank\" href=https://colab.research.google.com/notebooks/data_table.ipynb>data table notebook</a>'\n",
              "          + ' to learn more about interactive tables.';\n",
              "        element.innerHTML = '';\n",
              "        dataTable['output_type'] = 'display_data';\n",
              "        await google.colab.output.renderOutput(dataTable, element);\n",
              "        const docLink = document.createElement('div');\n",
              "        docLink.innerHTML = docLinkHtml;\n",
              "        element.appendChild(docLink);\n",
              "      }\n",
              "    </script>\n",
              "  </div>\n",
              "\n",
              "\n",
              "<div id=\"df-86bbe22a-9503-4104-a961-a1e1e137f460\">\n",
              "  <button class=\"colab-df-quickchart\" onclick=\"quickchart('df-86bbe22a-9503-4104-a961-a1e1e137f460')\"\n",
              "            title=\"Suggest charts.\"\n",
              "            style=\"display:none;\">\n",
              "\n",
              "<svg xmlns=\"http://www.w3.org/2000/svg\" height=\"24px\"viewBox=\"0 0 24 24\"\n",
              "     width=\"24px\">\n",
              "    <g>\n",
              "        <path d=\"M19 3H5c-1.1 0-2 .9-2 2v14c0 1.1.9 2 2 2h14c1.1 0 2-.9 2-2V5c0-1.1-.9-2-2-2zM9 17H7v-7h2v7zm4 0h-2V7h2v10zm4 0h-2v-4h2v4z\"/>\n",
              "    </g>\n",
              "</svg>\n",
              "  </button>\n",
              "\n",
              "<style>\n",
              "  .colab-df-quickchart {\n",
              "    background-color: #E8F0FE;\n",
              "    border: none;\n",
              "    border-radius: 50%;\n",
              "    cursor: pointer;\n",
              "    display: none;\n",
              "    fill: #1967D2;\n",
              "    height: 32px;\n",
              "    padding: 0 0 0 0;\n",
              "    width: 32px;\n",
              "  }\n",
              "\n",
              "  .colab-df-quickchart:hover {\n",
              "    background-color: #E2EBFA;\n",
              "    box-shadow: 0px 1px 2px rgba(60, 64, 67, 0.3), 0px 1px 3px 1px rgba(60, 64, 67, 0.15);\n",
              "    fill: #174EA6;\n",
              "  }\n",
              "\n",
              "  [theme=dark] .colab-df-quickchart {\n",
              "    background-color: #3B4455;\n",
              "    fill: #D2E3FC;\n",
              "  }\n",
              "\n",
              "  [theme=dark] .colab-df-quickchart:hover {\n",
              "    background-color: #434B5C;\n",
              "    box-shadow: 0px 1px 3px 1px rgba(0, 0, 0, 0.15);\n",
              "    filter: drop-shadow(0px 1px 2px rgba(0, 0, 0, 0.3));\n",
              "    fill: #FFFFFF;\n",
              "  }\n",
              "</style>\n",
              "\n",
              "  <script>\n",
              "    async function quickchart(key) {\n",
              "      const charts = await google.colab.kernel.invokeFunction(\n",
              "          'suggestCharts', [key], {});\n",
              "    }\n",
              "    (() => {\n",
              "      let quickchartButtonEl =\n",
              "        document.querySelector('#df-86bbe22a-9503-4104-a961-a1e1e137f460 button');\n",
              "      quickchartButtonEl.style.display =\n",
              "        google.colab.kernel.accessAllowed ? 'block' : 'none';\n",
              "    })();\n",
              "  </script>\n",
              "</div>\n",
              "    </div>\n",
              "  </div>\n"
            ]
          },
          "metadata": {},
          "execution_count": 16
        }
      ],
      "source": [
        "# Apply Label Encoding to the categorical features, following the original notebook's approach\n",
        "le = LabelEncoder()\n",
        "\n",
        "# Columns to apply Label Encoding\n",
        "label_encode_columns = ['Class', 'gender', 'NationalITy', 'PlaceofBirth', 'StageID', 'GradeID', 'SectionID', 'Topic', 'Semester', 'Relation', 'ParentAnsweringSurvey', 'ParentschoolSatisfaction', 'StudentAbsenceDays']\n",
        "\n",
        "# Perform Label Encoding\n",
        "df_label_encoded = data.copy()\n",
        "for col in label_encode_columns:\n",
        "    df_label_encoded[col] = le.fit_transform(data[col])\n",
        "\n",
        "# Display the first few rows of the label-encoded dataframe\n",
        "df_label_encoded.head()\n"
      ]
    },
    {
      "cell_type": "markdown",
      "source": [
        "## The label-encoded data splited into training and testing sets:\n",
        "\n",
        "The training set contains 336 samples with 16 features each.\n",
        "The testing set contains 144 samples with 16 features each.\n",
        "This gives us a 70-30 split, a common ratio for training and testing data in machine learning.\n"
      ],
      "metadata": {
        "id": "cs4IKPRtd-4E"
      },
      "id": "cs4IKPRtd-4E"
    },
    {
      "cell_type": "code",
      "source": [
        "# Split the label-encoded data into training and testing sets (70% training, 30% testing)\n",
        "X_label_encoded = df_label_encoded.drop('Class', axis=1)\n",
        "y_label_encoded = df_label_encoded['Class']\n",
        "\n",
        "# Perform the split\n",
        "X_train_label_encoded, X_test_label_encoded, y_train_label_encoded, y_test_label_encoded = train_test_split(X_label_encoded, y_label_encoded, test_size=0.3, random_state=42)\n",
        "\n",
        "# Show the shape of the resulting sets\n",
        "(X_train_label_encoded.shape, X_test_label_encoded.shape), (y_train_label_encoded.shape, y_test_label_encoded.shape)\n"
      ],
      "metadata": {
        "colab": {
          "base_uri": "https://localhost:8080/"
        },
        "id": "4FyKsRIpbs_K",
        "outputId": "425de1c9-e02c-441e-dd7c-117030e4eb8c"
      },
      "id": "4FyKsRIpbs_K",
      "execution_count": 17,
      "outputs": [
        {
          "output_type": "execute_result",
          "data": {
            "text/plain": [
              "(((336, 16), (144, 16)), ((336,), (144,)))"
            ]
          },
          "metadata": {},
          "execution_count": 17
        }
      ]
    },
    {
      "cell_type": "code",
      "source": [
        "# Initialize the RandomForestClassifier, following the original notebook's approach\n",
        "rf_classifier_label_encoded = RandomForestClassifier(random_state=42)\n",
        "\n",
        "# Train the model on the label-encoded training data\n",
        "rf_classifier_label_encoded.fit(X_train_label_encoded, y_train_label_encoded)\n",
        "\n",
        "# Predict the classes for the label-encoded test set\n",
        "y_pred_label_encoded = rf_classifier_label_encoded.predict(X_test_label_encoded)\n",
        "target_names = ['class 0 (H)', 'class 1 (L)', 'class 2 (M)']\n",
        "# Evaluate the model using accuracy and classification report\n",
        "accuracy_label_encoded = accuracy_score(y_test_label_encoded, y_pred_label_encoded)\n",
        "classification_rep_label_encoded = classification_report(y_test_label_encoded, y_pred_label_encoded, target_names = target_names)\n",
        "\n",
        "accuracy_label_encoded"
      ],
      "metadata": {
        "colab": {
          "base_uri": "https://localhost:8080/"
        },
        "id": "8G3Hqo-Gb7sQ",
        "outputId": "d331969d-9df1-4c80-a018-14d4445056d5"
      },
      "id": "8G3Hqo-Gb7sQ",
      "execution_count": 24,
      "outputs": [
        {
          "output_type": "execute_result",
          "data": {
            "text/plain": [
              "0.8055555555555556"
            ]
          },
          "metadata": {},
          "execution_count": 24
        }
      ]
    },
    {
      "cell_type": "code",
      "source": [
        "print(classification_rep_label_encoded)"
      ],
      "metadata": {
        "colab": {
          "base_uri": "https://localhost:8080/"
        },
        "id": "5sKMY1ehdCsj",
        "outputId": "85d268ab-b2a6-462f-f857-20dfd3ec4695"
      },
      "id": "5sKMY1ehdCsj",
      "execution_count": 25,
      "outputs": [
        {
          "output_type": "stream",
          "name": "stdout",
          "text": [
            "              precision    recall  f1-score   support\n",
            "\n",
            " class 0 (H)       0.78      0.68      0.72        31\n",
            " class 1 (L)       0.87      0.87      0.87        45\n",
            " class 2 (M)       0.78      0.82      0.80        68\n",
            "\n",
            "    accuracy                           0.81       144\n",
            "   macro avg       0.81      0.79      0.80       144\n",
            "weighted avg       0.81      0.81      0.80       144\n",
            "\n"
          ]
        }
      ]
    },
    {
      "cell_type": "markdown",
      "source": [
        "## Random Forest Classifier Model Evaluation (Label-Encoded Data)\n",
        "The Random Forest Classifier model trained on the label-encoded data yielded an accuracy of approximately 80.56%.\n",
        "\n",
        "Classification Report:\n",
        "Precision, Recall, and F1-Score: These metrics are shown for each of the three classes (0, 1, and 2, representing Low, Middle, and High performance, respectively). The model performs relatively well across these classes.\n",
        "\n",
        "Overall Accuracy: The model correctly classified about 81% of the test samples.\n",
        "\n",
        "Macro Average: The macro average for precision, recall, and F1-score is around 0.80, indicating a balanced model."
      ],
      "metadata": {
        "id": "QR5Ft6pjbyeR"
      },
      "id": "QR5Ft6pjbyeR"
    },
    {
      "cell_type": "markdown",
      "source": [
        "## Additional Classifier Model Evaluations (Label-Encoded Data)\n",
        "1. Support Vector Classifier (SVC)\n",
        "* Accuracy: Approximately 63.89%\n",
        "\n",
        "* Classification Report: The model has varying levels of precision, recall, and F1-score across the three classes (0, 1, and 2, representing Low, Middle, and High performance, respectively).\n",
        "\n",
        "2. K-Nearest Neighbors (KNN)\n",
        "* Accuracy: Approximately 63.89%\n",
        "\n",
        "* Classification Report: Similar to the SVC model, the KNN model also has varying levels of precision, recall, and F1-score across the three classes.\n",
        "\n",
        "It's evident that the Random Forest Classifier outperforms both SVC and KNN on this dataset with an accuracy of approximately 80.56%."
      ],
      "metadata": {
        "id": "guDVUBc1eOMA"
      },
      "id": "guDVUBc1eOMA"
    },
    {
      "cell_type": "code",
      "source": [
        "# Initialize the classifiers\n",
        "svc_classifier = SVC(random_state=42)\n",
        "knn_classifier = KNeighborsClassifier()\n",
        "\n",
        "# Train the models on the label-encoded training data\n",
        "svc_classifier.fit(X_train_label_encoded, y_train_label_encoded)\n",
        "knn_classifier.fit(X_train_label_encoded, y_train_label_encoded)\n",
        "\n",
        "# Predict the classes for the label-encoded test set\n",
        "y_pred_svc = svc_classifier.predict(X_test_label_encoded)\n",
        "y_pred_knn = knn_classifier.predict(X_test_label_encoded)\n",
        "\n",
        "# Evaluate the models using accuracy and classification report\n",
        "accuracy_svc = accuracy_score(y_test_label_encoded, y_pred_svc)\n",
        "classification_rep_svc = classification_report(y_test_label_encoded, y_pred_svc, target_names = target_names)\n",
        "\n",
        "accuracy_knn = accuracy_score(y_test_label_encoded, y_pred_knn)\n",
        "classification_rep_knn = classification_report(y_test_label_encoded, y_pred_knn, target_names = target_names)\n",
        "\n",
        "accuracy_svc, accuracy_knn\n"
      ],
      "metadata": {
        "colab": {
          "base_uri": "https://localhost:8080/"
        },
        "id": "F6iUFAgweGz1",
        "outputId": "cb712108-a94f-40f0-fddb-758df2475dca"
      },
      "id": "F6iUFAgweGz1",
      "execution_count": 27,
      "outputs": [
        {
          "output_type": "execute_result",
          "data": {
            "text/plain": [
              "(0.6388888888888888, 0.6388888888888888)"
            ]
          },
          "metadata": {},
          "execution_count": 27
        }
      ]
    },
    {
      "cell_type": "code",
      "source": [
        "print(classification_rep_svc)\n",
        "print(classification_rep_knn)"
      ],
      "metadata": {
        "colab": {
          "base_uri": "https://localhost:8080/"
        },
        "id": "VdUc2oVZetFc",
        "outputId": "5c45ef93-9c34-4c5b-9bd7-9b93d6ddb7c4"
      },
      "id": "VdUc2oVZetFc",
      "execution_count": 28,
      "outputs": [
        {
          "output_type": "stream",
          "name": "stdout",
          "text": [
            "              precision    recall  f1-score   support\n",
            "\n",
            " class 0 (H)       0.49      0.55      0.52        31\n",
            " class 1 (L)       0.76      0.82      0.79        45\n",
            " class 2 (M)       0.63      0.56      0.59        68\n",
            "\n",
            "    accuracy                           0.64       144\n",
            "   macro avg       0.62      0.64      0.63       144\n",
            "weighted avg       0.64      0.64      0.64       144\n",
            "\n",
            "              precision    recall  f1-score   support\n",
            "\n",
            " class 0 (H)       0.53      0.58      0.55        31\n",
            " class 1 (L)       0.71      0.80      0.75        45\n",
            " class 2 (M)       0.64      0.56      0.60        68\n",
            "\n",
            "    accuracy                           0.64       144\n",
            "   macro avg       0.63      0.65      0.63       144\n",
            "weighted avg       0.64      0.64      0.64       144\n",
            "\n"
          ]
        }
      ]
    },
    {
      "cell_type": "markdown",
      "id": "a2cf3975",
      "metadata": {
        "id": "a2cf3975"
      },
      "source": [
        "## Model Interpretation: Heatmaps for Confusion Matrices\n",
        "1. Random Forest Classifier\n",
        "The diagonal elements represent the number of correct classifications for each class: Low, Middle, and High.\n",
        "Most misclassifications occur between High and Low.\n",
        "2. Support Vector Classifier (SVC)\n",
        "The model has a fairly balanced number of true positives along the diagonal but shows several misclassifications, particularly between High and Low.\n",
        "3. K-Nearest Neighbors (KNN)\n",
        "Similar to SVC, the KNN model also shows several misclassifications, particularly between High and Low.\n",
        "\n",
        "* Additional Interpretation:\n",
        "1. Class Imbalance: One thing to note is that the models might be influenced by the class imbalance present in the dataset, as seen in the exploration phase. This could affect the models' performance, particularly in the minority classes.\n",
        "\n",
        "2. Feature Importance: For Random Forest, understanding which features are most important can provide insights into the data and the predictive model."
      ]
    },
    {
      "cell_type": "code",
      "execution_count": null,
      "id": "8f7b6c92",
      "metadata": {
        "id": "8f7b6c92"
      },
      "outputs": [],
      "source": [
        "# Generate confusion matrices for the three models: Random Forest, SVC, and KNN\n",
        "conf_matrix_rf = confusion_matrix(y_test_label_encoded, y_pred_label_encoded)\n",
        "conf_matrix_svc = confusion_matrix(y_test_label_encoded, y_pred_svc)\n",
        "conf_matrix_knn = confusion_matrix(y_test_label_encoded, y_pred_knn)\n",
        "\n",
        "# Generate classification reports for the three models\n",
        "class_report_rf = classification_report(y_test_label_encoded, y_pred_label_encoded)\n",
        "class_report_svc = classification_report(y_test_label_encoded, y_pred_svc)\n",
        "class_report_knn = classification_report(y_test_label_encoded, y_pred_knn)\n",
        "\n",
        "# Function to plot confusion matrix heatmap\n",
        "def plot_confusion_matrix_heatmap(conf_matrix, model_name, classes=['Low', 'Middle', 'High']):\n",
        "    plt.figure(figsize=(8, 6))\n",
        "    sns.heatmap(conf_matrix, annot=True, fmt='d', cmap='Blues', xticklabels=classes, yticklabels=classes)\n",
        "    plt.title(f'Confusion Matrix for {model_name}')\n",
        "    plt.xlabel('Predicted Labels')\n",
        "    plt.ylabel('True Labels')\n",
        "    plt.show()\n",
        "\n",
        "# Plot heatmaps for the confusion matrices of the three models\n",
        "plot_confusion_matrix_heatmap(conf_matrix_rf, 'Random Forest Classifier')\n",
        "plot_confusion_matrix_heatmap(conf_matrix_svc, 'Support Vector Classifier')\n",
        "plot_confusion_matrix_heatmap(conf_matrix_knn, 'K-Nearest Neighbors')"
      ]
    },
    {
      "cell_type": "markdown",
      "source": [
        "## Model Tuning for Random Forest Classifier\n",
        "We'll begin by tuning the hyperparameters of the Random Forest model to aim for better performance. We can use techniques like Grid Search to find the optimal set of hyperparameters.\n",
        "\n",
        "Grid Search for Random Forest\n",
        "\n",
        "## Model Tuning: Simplified Grid Search Results\n",
        "The best hyperparameters for the Random Forest model based on the simplified grid search are:\n",
        "\n",
        "Max Depth: None (No maximum depth)\n",
        "Min Samples Leaf: 1\n",
        "Min Samples Split: 5\n",
        "Number of Estimators (Trees): 100\n",
        "The model's accuracy with these optimized hyperparameters is approximately 81.94%, which is slightly better than the original model."
      ],
      "metadata": {
        "id": "51bY-_z5gBlH"
      },
      "id": "51bY-_z5gBlH"
    },
    {
      "cell_type": "code",
      "source": [
        "# Define a more simplified parameter grid for Random Forest to speed up the process\n",
        "simplified_param_grid_rf = {\n",
        "    'n_estimators': [50, 100],\n",
        "    'max_depth': [None, 10],\n",
        "    'min_samples_split': [2, 5],\n",
        "    'min_samples_leaf': [1, 2]\n",
        "}\n",
        "\n",
        "# Initialize a new GridSearchCV object with the simplified parameter grid\n",
        "simplified_grid_search_rf = GridSearchCV(estimator=rf_classifier_label_encoded, param_grid=simplified_param_grid_rf,\n",
        "                                         cv=3, n_jobs=-1, verbose=2, scoring='accuracy')\n",
        "\n",
        "# Fit the grid search to the data\n",
        "simplified_grid_search_rf.fit(X_train_label_encoded, y_train_label_encoded)\n",
        "\n",
        "# Retrieve the best parameters and the best estimator from the simplified grid search\n",
        "best_params_rf_simplified = simplified_grid_search_rf.best_params_\n",
        "best_estimator_rf_simplified = simplified_grid_search_rf.best_estimator_\n",
        "\n",
        "# Evaluate the best model from the simplified grid search\n",
        "best_rf_score_simplified = best_estimator_rf_simplified.score(X_test_label_encoded, y_test_label_encoded)\n",
        "\n",
        "best_params_rf_simplified, best_rf_score_simplified\n"
      ],
      "metadata": {
        "colab": {
          "base_uri": "https://localhost:8080/"
        },
        "id": "RROd9yBGgHbw",
        "outputId": "1938d2fe-8794-4383-9b73-ae8fe9e5e0f7"
      },
      "id": "RROd9yBGgHbw",
      "execution_count": 34,
      "outputs": [
        {
          "output_type": "stream",
          "name": "stdout",
          "text": [
            "Fitting 3 folds for each of 16 candidates, totalling 48 fits\n"
          ]
        },
        {
          "output_type": "execute_result",
          "data": {
            "text/plain": [
              "({'max_depth': None,\n",
              "  'min_samples_leaf': 1,\n",
              "  'min_samples_split': 5,\n",
              "  'n_estimators': 100},\n",
              " 0.8194444444444444)"
            ]
          },
          "metadata": {},
          "execution_count": 34
        }
      ]
    },
    {
      "cell_type": "markdown",
      "id": "1f9e2016",
      "metadata": {
        "id": "1f9e2016"
      },
      "source": [
        "## Results\n",
        "The results emphasized the significant role of student profiles, academic performance, and behavioral interactions with the virtual learning environment in predicting student performance. Our optimized Random Forest model achieved an accuracy of approximately 82%, outperforming other classifiers like SVC and KNN. The model effectively ranks students and predicts their performance based on both academic and behavioral metrics. Areas for further improvement include:\n",
        "\n",
        "- Application of advanced Grid Search techniques for optimal hyperparameter tuning.\n",
        "- Inclusion of additional classification algorithms for comparative analysis.\n",
        "- Exploration of feature correlations to further improve prediction accuracy.\n",
        "\n",
        "The Random Forest classifier lays the groundwork for building a more comprehensive student model that can inform various recommendation strategies. These strategies could focus on supporting cognitive development, understanding interaction behavior, determining preferences, and ultimately enhancing learning performance. Future work will delve into the task of recommending specific activities to gain deeper insights into the relationship between interaction behavior and student performance in an e-learning setting."
      ]
    },
    {
      "cell_type": "markdown",
      "id": "b03ea8b8",
      "metadata": {
        "id": "b03ea8b8"
      },
      "source": [
        "## References\n",
        "- The dataset was sourced from Kaggle."
      ]
    }
  ],
  "metadata": {
    "colab": {
      "provenance": []
    },
    "language_info": {
      "name": "python"
    },
    "kernelspec": {
      "name": "python3",
      "display_name": "Python 3"
    }
  },
  "nbformat": 4,
  "nbformat_minor": 5
}